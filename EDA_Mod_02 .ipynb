{
  "nbformat": 4,
  "nbformat_minor": 0,
  "metadata": {
    "colab": {
      "provenance": []
    },
    "kernelspec": {
      "name": "python3",
      "display_name": "Python 3"
    },
    "language_info": {
      "name": "python"
    }
  },
  "cells": [
    {
      "cell_type": "markdown",
      "source": [
        "\n",
        "\n",
        "# EDA (Exploratory Data Analysis) — Assignment (Module 02) || Assignment Code: DA-AG-009\n",
        "### Student: Suraj Vishwakarma  \n",
        "### Email: vishsurajfor@gmail.com\n",
        "This notebook contains the 10 questions from the assignment with answers and runnable Python code where applicable.\n",
        "\n",
        "Question 1: Read the Bike Details dataset into a Pandas DataFrame and display its\n",
        "first 10 rows.\n",
        "(Show the shape and column names as well.)\n",
        "(Include your Python code and output in the code box below.\n"
      ],
      "metadata": {
        "id": "UJVOuGgq3H3w"
      }
    },
    {
      "cell_type": "code",
      "source": [
        "# Import necessary libraries\n",
        "import pandas as pd\n",
        "\n",
        "# Load dataset\n",
        "df = pd.read_csv(\"/BIKE DETAILS.csv\")\n",
        "\n",
        "# Display first 10 rows\n",
        "print(\"First 10 rows of dataset:\")\n",
        "display(df.head(10))\n",
        "\n",
        "# Show shape of dataset\n",
        "print(\"\\nShape of dataset (rows, columns):\", df.shape)\n",
        "\n",
        "# Show column names\n",
        "print(\"\\nColumn names:\")\n",
        "print(df.columns.tolist())\n"
      ],
      "metadata": {
        "colab": {
          "base_uri": "https://localhost:8080/",
          "height": 466
        },
        "id": "ueZlq3C53UUn",
        "outputId": "3a82d537-ce91-47a5-d159-e1b419545f6d"
      },
      "execution_count": 4,
      "outputs": [
        {
          "output_type": "stream",
          "name": "stdout",
          "text": [
            "First 10 rows of dataset:\n"
          ]
        },
        {
          "output_type": "display_data",
          "data": {
            "text/plain": [
              "                                   name  selling_price  year seller_type  \\\n",
              "0             Royal Enfield Classic 350         175000  2019  Individual   \n",
              "1                             Honda Dio          45000  2017  Individual   \n",
              "2   Royal Enfield Classic Gunmetal Grey         150000  2018  Individual   \n",
              "3     Yamaha Fazer FI V 2.0 [2016-2018]          65000  2015  Individual   \n",
              "4                 Yamaha SZ [2013-2014]          20000  2011  Individual   \n",
              "5                      Honda CB Twister          18000  2010  Individual   \n",
              "6                  Honda CB Hornet 160R          78500  2018  Individual   \n",
              "7  Royal Enfield Bullet 350 [2007-2011]         180000  2008  Individual   \n",
              "8                Hero Honda CBZ extreme          30000  2010  Individual   \n",
              "9                    Bajaj Discover 125          50000  2016  Individual   \n",
              "\n",
              "       owner  km_driven  ex_showroom_price  \n",
              "0  1st owner        350                NaN  \n",
              "1  1st owner       5650                NaN  \n",
              "2  1st owner      12000           148114.0  \n",
              "3  1st owner      23000            89643.0  \n",
              "4  2nd owner      21000                NaN  \n",
              "5  1st owner      60000            53857.0  \n",
              "6  1st owner      17000            87719.0  \n",
              "7  2nd owner      39000                NaN  \n",
              "8  1st owner      32000                NaN  \n",
              "9  1st owner      42000            60122.0  "
            ],
            "text/html": [
              "\n",
              "  <div id=\"df-a9d78cac-3909-4482-9473-6187028cf62c\" class=\"colab-df-container\">\n",
              "    <div>\n",
              "<style scoped>\n",
              "    .dataframe tbody tr th:only-of-type {\n",
              "        vertical-align: middle;\n",
              "    }\n",
              "\n",
              "    .dataframe tbody tr th {\n",
              "        vertical-align: top;\n",
              "    }\n",
              "\n",
              "    .dataframe thead th {\n",
              "        text-align: right;\n",
              "    }\n",
              "</style>\n",
              "<table border=\"1\" class=\"dataframe\">\n",
              "  <thead>\n",
              "    <tr style=\"text-align: right;\">\n",
              "      <th></th>\n",
              "      <th>name</th>\n",
              "      <th>selling_price</th>\n",
              "      <th>year</th>\n",
              "      <th>seller_type</th>\n",
              "      <th>owner</th>\n",
              "      <th>km_driven</th>\n",
              "      <th>ex_showroom_price</th>\n",
              "    </tr>\n",
              "  </thead>\n",
              "  <tbody>\n",
              "    <tr>\n",
              "      <th>0</th>\n",
              "      <td>Royal Enfield Classic 350</td>\n",
              "      <td>175000</td>\n",
              "      <td>2019</td>\n",
              "      <td>Individual</td>\n",
              "      <td>1st owner</td>\n",
              "      <td>350</td>\n",
              "      <td>NaN</td>\n",
              "    </tr>\n",
              "    <tr>\n",
              "      <th>1</th>\n",
              "      <td>Honda Dio</td>\n",
              "      <td>45000</td>\n",
              "      <td>2017</td>\n",
              "      <td>Individual</td>\n",
              "      <td>1st owner</td>\n",
              "      <td>5650</td>\n",
              "      <td>NaN</td>\n",
              "    </tr>\n",
              "    <tr>\n",
              "      <th>2</th>\n",
              "      <td>Royal Enfield Classic Gunmetal Grey</td>\n",
              "      <td>150000</td>\n",
              "      <td>2018</td>\n",
              "      <td>Individual</td>\n",
              "      <td>1st owner</td>\n",
              "      <td>12000</td>\n",
              "      <td>148114.0</td>\n",
              "    </tr>\n",
              "    <tr>\n",
              "      <th>3</th>\n",
              "      <td>Yamaha Fazer FI V 2.0 [2016-2018]</td>\n",
              "      <td>65000</td>\n",
              "      <td>2015</td>\n",
              "      <td>Individual</td>\n",
              "      <td>1st owner</td>\n",
              "      <td>23000</td>\n",
              "      <td>89643.0</td>\n",
              "    </tr>\n",
              "    <tr>\n",
              "      <th>4</th>\n",
              "      <td>Yamaha SZ [2013-2014]</td>\n",
              "      <td>20000</td>\n",
              "      <td>2011</td>\n",
              "      <td>Individual</td>\n",
              "      <td>2nd owner</td>\n",
              "      <td>21000</td>\n",
              "      <td>NaN</td>\n",
              "    </tr>\n",
              "    <tr>\n",
              "      <th>5</th>\n",
              "      <td>Honda CB Twister</td>\n",
              "      <td>18000</td>\n",
              "      <td>2010</td>\n",
              "      <td>Individual</td>\n",
              "      <td>1st owner</td>\n",
              "      <td>60000</td>\n",
              "      <td>53857.0</td>\n",
              "    </tr>\n",
              "    <tr>\n",
              "      <th>6</th>\n",
              "      <td>Honda CB Hornet 160R</td>\n",
              "      <td>78500</td>\n",
              "      <td>2018</td>\n",
              "      <td>Individual</td>\n",
              "      <td>1st owner</td>\n",
              "      <td>17000</td>\n",
              "      <td>87719.0</td>\n",
              "    </tr>\n",
              "    <tr>\n",
              "      <th>7</th>\n",
              "      <td>Royal Enfield Bullet 350 [2007-2011]</td>\n",
              "      <td>180000</td>\n",
              "      <td>2008</td>\n",
              "      <td>Individual</td>\n",
              "      <td>2nd owner</td>\n",
              "      <td>39000</td>\n",
              "      <td>NaN</td>\n",
              "    </tr>\n",
              "    <tr>\n",
              "      <th>8</th>\n",
              "      <td>Hero Honda CBZ extreme</td>\n",
              "      <td>30000</td>\n",
              "      <td>2010</td>\n",
              "      <td>Individual</td>\n",
              "      <td>1st owner</td>\n",
              "      <td>32000</td>\n",
              "      <td>NaN</td>\n",
              "    </tr>\n",
              "    <tr>\n",
              "      <th>9</th>\n",
              "      <td>Bajaj Discover 125</td>\n",
              "      <td>50000</td>\n",
              "      <td>2016</td>\n",
              "      <td>Individual</td>\n",
              "      <td>1st owner</td>\n",
              "      <td>42000</td>\n",
              "      <td>60122.0</td>\n",
              "    </tr>\n",
              "  </tbody>\n",
              "</table>\n",
              "</div>\n",
              "    <div class=\"colab-df-buttons\">\n",
              "\n",
              "  <div class=\"colab-df-container\">\n",
              "    <button class=\"colab-df-convert\" onclick=\"convertToInteractive('df-a9d78cac-3909-4482-9473-6187028cf62c')\"\n",
              "            title=\"Convert this dataframe to an interactive table.\"\n",
              "            style=\"display:none;\">\n",
              "\n",
              "  <svg xmlns=\"http://www.w3.org/2000/svg\" height=\"24px\" viewBox=\"0 -960 960 960\">\n",
              "    <path d=\"M120-120v-720h720v720H120Zm60-500h600v-160H180v160Zm220 220h160v-160H400v160Zm0 220h160v-160H400v160ZM180-400h160v-160H180v160Zm440 0h160v-160H620v160ZM180-180h160v-160H180v160Zm440 0h160v-160H620v160Z\"/>\n",
              "  </svg>\n",
              "    </button>\n",
              "\n",
              "  <style>\n",
              "    .colab-df-container {\n",
              "      display:flex;\n",
              "      gap: 12px;\n",
              "    }\n",
              "\n",
              "    .colab-df-convert {\n",
              "      background-color: #E8F0FE;\n",
              "      border: none;\n",
              "      border-radius: 50%;\n",
              "      cursor: pointer;\n",
              "      display: none;\n",
              "      fill: #1967D2;\n",
              "      height: 32px;\n",
              "      padding: 0 0 0 0;\n",
              "      width: 32px;\n",
              "    }\n",
              "\n",
              "    .colab-df-convert:hover {\n",
              "      background-color: #E2EBFA;\n",
              "      box-shadow: 0px 1px 2px rgba(60, 64, 67, 0.3), 0px 1px 3px 1px rgba(60, 64, 67, 0.15);\n",
              "      fill: #174EA6;\n",
              "    }\n",
              "\n",
              "    .colab-df-buttons div {\n",
              "      margin-bottom: 4px;\n",
              "    }\n",
              "\n",
              "    [theme=dark] .colab-df-convert {\n",
              "      background-color: #3B4455;\n",
              "      fill: #D2E3FC;\n",
              "    }\n",
              "\n",
              "    [theme=dark] .colab-df-convert:hover {\n",
              "      background-color: #434B5C;\n",
              "      box-shadow: 0px 1px 3px 1px rgba(0, 0, 0, 0.15);\n",
              "      filter: drop-shadow(0px 1px 2px rgba(0, 0, 0, 0.3));\n",
              "      fill: #FFFFFF;\n",
              "    }\n",
              "  </style>\n",
              "\n",
              "    <script>\n",
              "      const buttonEl =\n",
              "        document.querySelector('#df-a9d78cac-3909-4482-9473-6187028cf62c button.colab-df-convert');\n",
              "      buttonEl.style.display =\n",
              "        google.colab.kernel.accessAllowed ? 'block' : 'none';\n",
              "\n",
              "      async function convertToInteractive(key) {\n",
              "        const element = document.querySelector('#df-a9d78cac-3909-4482-9473-6187028cf62c');\n",
              "        const dataTable =\n",
              "          await google.colab.kernel.invokeFunction('convertToInteractive',\n",
              "                                                    [key], {});\n",
              "        if (!dataTable) return;\n",
              "\n",
              "        const docLinkHtml = 'Like what you see? Visit the ' +\n",
              "          '<a target=\"_blank\" href=https://colab.research.google.com/notebooks/data_table.ipynb>data table notebook</a>'\n",
              "          + ' to learn more about interactive tables.';\n",
              "        element.innerHTML = '';\n",
              "        dataTable['output_type'] = 'display_data';\n",
              "        await google.colab.output.renderOutput(dataTable, element);\n",
              "        const docLink = document.createElement('div');\n",
              "        docLink.innerHTML = docLinkHtml;\n",
              "        element.appendChild(docLink);\n",
              "      }\n",
              "    </script>\n",
              "  </div>\n",
              "\n",
              "\n",
              "    <div id=\"df-58e43c75-8a92-43d1-aa9f-3fc9a2b0985a\">\n",
              "      <button class=\"colab-df-quickchart\" onclick=\"quickchart('df-58e43c75-8a92-43d1-aa9f-3fc9a2b0985a')\"\n",
              "                title=\"Suggest charts\"\n",
              "                style=\"display:none;\">\n",
              "\n",
              "<svg xmlns=\"http://www.w3.org/2000/svg\" height=\"24px\"viewBox=\"0 0 24 24\"\n",
              "     width=\"24px\">\n",
              "    <g>\n",
              "        <path d=\"M19 3H5c-1.1 0-2 .9-2 2v14c0 1.1.9 2 2 2h14c1.1 0 2-.9 2-2V5c0-1.1-.9-2-2-2zM9 17H7v-7h2v7zm4 0h-2V7h2v10zm4 0h-2v-4h2v4z\"/>\n",
              "    </g>\n",
              "</svg>\n",
              "      </button>\n",
              "\n",
              "<style>\n",
              "  .colab-df-quickchart {\n",
              "      --bg-color: #E8F0FE;\n",
              "      --fill-color: #1967D2;\n",
              "      --hover-bg-color: #E2EBFA;\n",
              "      --hover-fill-color: #174EA6;\n",
              "      --disabled-fill-color: #AAA;\n",
              "      --disabled-bg-color: #DDD;\n",
              "  }\n",
              "\n",
              "  [theme=dark] .colab-df-quickchart {\n",
              "      --bg-color: #3B4455;\n",
              "      --fill-color: #D2E3FC;\n",
              "      --hover-bg-color: #434B5C;\n",
              "      --hover-fill-color: #FFFFFF;\n",
              "      --disabled-bg-color: #3B4455;\n",
              "      --disabled-fill-color: #666;\n",
              "  }\n",
              "\n",
              "  .colab-df-quickchart {\n",
              "    background-color: var(--bg-color);\n",
              "    border: none;\n",
              "    border-radius: 50%;\n",
              "    cursor: pointer;\n",
              "    display: none;\n",
              "    fill: var(--fill-color);\n",
              "    height: 32px;\n",
              "    padding: 0;\n",
              "    width: 32px;\n",
              "  }\n",
              "\n",
              "  .colab-df-quickchart:hover {\n",
              "    background-color: var(--hover-bg-color);\n",
              "    box-shadow: 0 1px 2px rgba(60, 64, 67, 0.3), 0 1px 3px 1px rgba(60, 64, 67, 0.15);\n",
              "    fill: var(--button-hover-fill-color);\n",
              "  }\n",
              "\n",
              "  .colab-df-quickchart-complete:disabled,\n",
              "  .colab-df-quickchart-complete:disabled:hover {\n",
              "    background-color: var(--disabled-bg-color);\n",
              "    fill: var(--disabled-fill-color);\n",
              "    box-shadow: none;\n",
              "  }\n",
              "\n",
              "  .colab-df-spinner {\n",
              "    border: 2px solid var(--fill-color);\n",
              "    border-color: transparent;\n",
              "    border-bottom-color: var(--fill-color);\n",
              "    animation:\n",
              "      spin 1s steps(1) infinite;\n",
              "  }\n",
              "\n",
              "  @keyframes spin {\n",
              "    0% {\n",
              "      border-color: transparent;\n",
              "      border-bottom-color: var(--fill-color);\n",
              "      border-left-color: var(--fill-color);\n",
              "    }\n",
              "    20% {\n",
              "      border-color: transparent;\n",
              "      border-left-color: var(--fill-color);\n",
              "      border-top-color: var(--fill-color);\n",
              "    }\n",
              "    30% {\n",
              "      border-color: transparent;\n",
              "      border-left-color: var(--fill-color);\n",
              "      border-top-color: var(--fill-color);\n",
              "      border-right-color: var(--fill-color);\n",
              "    }\n",
              "    40% {\n",
              "      border-color: transparent;\n",
              "      border-right-color: var(--fill-color);\n",
              "      border-top-color: var(--fill-color);\n",
              "    }\n",
              "    60% {\n",
              "      border-color: transparent;\n",
              "      border-right-color: var(--fill-color);\n",
              "    }\n",
              "    80% {\n",
              "      border-color: transparent;\n",
              "      border-right-color: var(--fill-color);\n",
              "      border-bottom-color: var(--fill-color);\n",
              "    }\n",
              "    90% {\n",
              "      border-color: transparent;\n",
              "      border-bottom-color: var(--fill-color);\n",
              "    }\n",
              "  }\n",
              "</style>\n",
              "\n",
              "      <script>\n",
              "        async function quickchart(key) {\n",
              "          const quickchartButtonEl =\n",
              "            document.querySelector('#' + key + ' button');\n",
              "          quickchartButtonEl.disabled = true;  // To prevent multiple clicks.\n",
              "          quickchartButtonEl.classList.add('colab-df-spinner');\n",
              "          try {\n",
              "            const charts = await google.colab.kernel.invokeFunction(\n",
              "                'suggestCharts', [key], {});\n",
              "          } catch (error) {\n",
              "            console.error('Error during call to suggestCharts:', error);\n",
              "          }\n",
              "          quickchartButtonEl.classList.remove('colab-df-spinner');\n",
              "          quickchartButtonEl.classList.add('colab-df-quickchart-complete');\n",
              "        }\n",
              "        (() => {\n",
              "          let quickchartButtonEl =\n",
              "            document.querySelector('#df-58e43c75-8a92-43d1-aa9f-3fc9a2b0985a button');\n",
              "          quickchartButtonEl.style.display =\n",
              "            google.colab.kernel.accessAllowed ? 'block' : 'none';\n",
              "        })();\n",
              "      </script>\n",
              "    </div>\n",
              "\n",
              "    </div>\n",
              "  </div>\n"
            ],
            "application/vnd.google.colaboratory.intrinsic+json": {
              "type": "dataframe",
              "summary": "{\n  \"name\": \"print(df\",\n  \"rows\": 10,\n  \"fields\": [\n    {\n      \"column\": \"name\",\n      \"properties\": {\n        \"dtype\": \"string\",\n        \"num_unique_values\": 10,\n        \"samples\": [\n          \"Hero Honda CBZ extreme\",\n          \"Honda Dio\",\n          \"Honda CB Twister\"\n        ],\n        \"semantic_type\": \"\",\n        \"description\": \"\"\n      }\n    },\n    {\n      \"column\": \"selling_price\",\n      \"properties\": {\n        \"dtype\": \"number\",\n        \"std\": 63428,\n        \"min\": 18000,\n        \"max\": 180000,\n        \"num_unique_values\": 10,\n        \"samples\": [\n          30000,\n          45000,\n          18000\n        ],\n        \"semantic_type\": \"\",\n        \"description\": \"\"\n      }\n    },\n    {\n      \"column\": \"year\",\n      \"properties\": {\n        \"dtype\": \"number\",\n        \"std\": 4,\n        \"min\": 2008,\n        \"max\": 2019,\n        \"num_unique_values\": 8,\n        \"samples\": [\n          2017,\n          2010,\n          2019\n        ],\n        \"semantic_type\": \"\",\n        \"description\": \"\"\n      }\n    },\n    {\n      \"column\": \"seller_type\",\n      \"properties\": {\n        \"dtype\": \"category\",\n        \"num_unique_values\": 1,\n        \"samples\": [\n          \"Individual\"\n        ],\n        \"semantic_type\": \"\",\n        \"description\": \"\"\n      }\n    },\n    {\n      \"column\": \"owner\",\n      \"properties\": {\n        \"dtype\": \"category\",\n        \"num_unique_values\": 2,\n        \"samples\": [\n          \"2nd owner\"\n        ],\n        \"semantic_type\": \"\",\n        \"description\": \"\"\n      }\n    },\n    {\n      \"column\": \"km_driven\",\n      \"properties\": {\n        \"dtype\": \"number\",\n        \"std\": 18238,\n        \"min\": 350,\n        \"max\": 60000,\n        \"num_unique_values\": 10,\n        \"samples\": [\n          32000\n        ],\n        \"semantic_type\": \"\",\n        \"description\": \"\"\n      }\n    },\n    {\n      \"column\": \"ex_showroom_price\",\n      \"properties\": {\n        \"dtype\": \"number\",\n        \"std\": 37280.488643525045,\n        \"min\": 53857.0,\n        \"max\": 148114.0,\n        \"num_unique_values\": 5,\n        \"samples\": [\n          89643.0\n        ],\n        \"semantic_type\": \"\",\n        \"description\": \"\"\n      }\n    }\n  ]\n}"
            }
          },
          "metadata": {}
        },
        {
          "output_type": "stream",
          "name": "stdout",
          "text": [
            "\n",
            "Shape of dataset (rows, columns): (1061, 7)\n",
            "\n",
            "Column names:\n",
            "['name', 'selling_price', 'year', 'seller_type', 'owner', 'km_driven', 'ex_showroom_price']\n"
          ]
        }
      ]
    },
    {
      "cell_type": "markdown",
      "source": [
        "Question 2: Check for missing values in all columns and describe your approach for\n",
        "handling them.\n",
        "(Include your Python code and output in the code box below.)\n"
      ],
      "metadata": {
        "id": "qnxVBdmj5F1W"
      }
    },
    {
      "cell_type": "code",
      "source": [
        "# Q2: Check missing values\n",
        "df.isnull().sum()\n"
      ],
      "metadata": {
        "colab": {
          "base_uri": "https://localhost:8080/",
          "height": 303
        },
        "id": "YQMrlbhp5Nw6",
        "outputId": "a7288bcb-cbcb-49bf-aeb6-1df1e3f98a02"
      },
      "execution_count": 5,
      "outputs": [
        {
          "output_type": "execute_result",
          "data": {
            "text/plain": [
              "name                   0\n",
              "selling_price          0\n",
              "year                   0\n",
              "seller_type            0\n",
              "owner                  0\n",
              "km_driven              0\n",
              "ex_showroom_price    435\n",
              "dtype: int64"
            ],
            "text/html": [
              "<div>\n",
              "<style scoped>\n",
              "    .dataframe tbody tr th:only-of-type {\n",
              "        vertical-align: middle;\n",
              "    }\n",
              "\n",
              "    .dataframe tbody tr th {\n",
              "        vertical-align: top;\n",
              "    }\n",
              "\n",
              "    .dataframe thead th {\n",
              "        text-align: right;\n",
              "    }\n",
              "</style>\n",
              "<table border=\"1\" class=\"dataframe\">\n",
              "  <thead>\n",
              "    <tr style=\"text-align: right;\">\n",
              "      <th></th>\n",
              "      <th>0</th>\n",
              "    </tr>\n",
              "  </thead>\n",
              "  <tbody>\n",
              "    <tr>\n",
              "      <th>name</th>\n",
              "      <td>0</td>\n",
              "    </tr>\n",
              "    <tr>\n",
              "      <th>selling_price</th>\n",
              "      <td>0</td>\n",
              "    </tr>\n",
              "    <tr>\n",
              "      <th>year</th>\n",
              "      <td>0</td>\n",
              "    </tr>\n",
              "    <tr>\n",
              "      <th>seller_type</th>\n",
              "      <td>0</td>\n",
              "    </tr>\n",
              "    <tr>\n",
              "      <th>owner</th>\n",
              "      <td>0</td>\n",
              "    </tr>\n",
              "    <tr>\n",
              "      <th>km_driven</th>\n",
              "      <td>0</td>\n",
              "    </tr>\n",
              "    <tr>\n",
              "      <th>ex_showroom_price</th>\n",
              "      <td>435</td>\n",
              "    </tr>\n",
              "  </tbody>\n",
              "</table>\n",
              "</div><br><label><b>dtype:</b> int64</label>"
            ]
          },
          "metadata": {},
          "execution_count": 5
        }
      ]
    },
    {
      "cell_type": "code",
      "source": [
        "# Check missing values before handling\n",
        "print(\"Missing values before handling:\\n\")\n",
        "print(df.isnull().sum())\n",
        "\n",
        "# Fill numerical columns with median\n",
        "num_cols = df.select_dtypes(include=['float64', 'int64']).columns\n",
        "df[num_cols] = df[num_cols].apply(lambda x: x.fillna(x.median()))\n",
        "\n",
        "# Fill categorical columns with mode\n",
        "cat_cols = df.select_dtypes(include=['object']).columns\n",
        "for col in cat_cols:\n",
        "    df[col] = df[col].fillna(df[col].mode()[0])\n",
        "\n",
        "# Check missing values after handling\n",
        "print(\"\\nMissing values after handling:\\n\")\n",
        "print(df.isnull().sum())\n",
        "\n"
      ],
      "metadata": {
        "colab": {
          "base_uri": "https://localhost:8080/"
        },
        "id": "ES0zaqr-5fel",
        "outputId": "01c2b521-e54f-4f46-bffa-2ccadb46c02f"
      },
      "execution_count": 8,
      "outputs": [
        {
          "output_type": "stream",
          "name": "stdout",
          "text": [
            "Missing values before handling:\n",
            "\n",
            "name                 0\n",
            "selling_price        0\n",
            "year                 0\n",
            "seller_type          0\n",
            "owner                0\n",
            "km_driven            0\n",
            "ex_showroom_price    0\n",
            "dtype: int64\n",
            "\n",
            "Missing values after handling:\n",
            "\n",
            "name                 0\n",
            "selling_price        0\n",
            "year                 0\n",
            "seller_type          0\n",
            "owner                0\n",
            "km_driven            0\n",
            "ex_showroom_price    0\n",
            "dtype: int64\n"
          ]
        }
      ]
    },
    {
      "cell_type": "markdown",
      "source": [
        "Question 3: Plot the distribution of selling prices using a histogram and describe the\n",
        "overall trend.\n",
        "(Include your Python code and output in the code box below.)"
      ],
      "metadata": {
        "id": "micEi6c66fAK"
      }
    },
    {
      "cell_type": "code",
      "source": [
        "import matplotlib.pyplot as plt\n",
        "\n",
        "# Plot histogram of selling prices\n",
        "plt.figure(figsize=(8,5))\n",
        "plt.hist(df['selling_price'], bins=30, color='skyblue', edgecolor='black')\n",
        "plt.xlabel(\"Selling Price\")\n",
        "plt.ylabel(\"Frequency\")\n",
        "plt.title(\"Distribution of Selling Prices\")\n",
        "plt.show()\n"
      ],
      "metadata": {
        "colab": {
          "base_uri": "https://localhost:8080/",
          "height": 487
        },
        "id": "vKpwbeRR65R1",
        "outputId": "be4b8d4e-e41c-4f51-ea0b-8e02134c3835"
      },
      "execution_count": 9,
      "outputs": [
        {
          "output_type": "display_data",
          "data": {
            "text/plain": [
              "<Figure size 800x500 with 1 Axes>"
            ],
            "image/png": "[encoded data removed]"
          },
          "metadata": {}
        }
      ]
    },
    {
      "cell_type": "markdown",
      "source": [
        "**Interpretation:**  \n",
        "- The histogram shows that the majority of bikes are sold at lower price ranges, with fewer bikes in higher price ranges.  \n",
        "- The distribution is **right-skewed**, indicating that a small number of high-priced bikes raise the maximum value, but most transactions are within the budget to mid-range segment.  \n",
        "- This suggests the market is dominated by affordable bikes rather than luxury models.  \n"
      ],
      "metadata": {
        "id": "xIw1Kdw67A_l"
      }
    },
    {
      "cell_type": "markdown",
      "source": [
        "Question 4: Create a bar plot to visualize the average selling price for each seller_type and write one observation.\n",
        "(Include your Python code and output in the code box below.)"
      ],
      "metadata": {
        "id": "ScHBR_Af7WSo"
      }
    },
    {
      "cell_type": "code",
      "source": [
        "import matplotlib.pyplot as plt\n",
        "\n",
        "# Calculate average selling price per seller type\n",
        "avg_price_by_seller = df.groupby('seller_type')['selling_price'].mean()\n",
        "\n",
        "# Plot bar chart\n",
        "plt.figure(figsize=(7,5))\n",
        "avg_price_by_seller.plot(kind='bar', color='orange', edgecolor='black')\n",
        "plt.ylabel(\"Average Selling Price\")\n",
        "plt.xlabel(\"Seller Type\")\n",
        "plt.title(\"Average Selling Price by Seller Type\")\n",
        "plt.xticks(rotation=0)\n",
        "plt.show()\n",
        "\n",
        "# Print values for reference\n",
        "print(avg_price_by_seller)\n"
      ],
      "metadata": {
        "colab": {
          "base_uri": "https://localhost:8080/",
          "height": 556
        },
        "id": "dGOQdHyL7rY8",
        "outputId": "00dce01f-2480-4601-d23c-bc2057fdde17"
      },
      "execution_count": 10,
      "outputs": [
        {
          "output_type": "display_data",
          "data": {
            "text/plain": [
              "<Figure size 700x500 with 1 Axes>"
            ],
            "image/png": "[encoded data removed]"
          },
          "metadata": {}
        },
        {
          "output_type": "stream",
          "name": "stdout",
          "text": [
            "seller_type\n",
            "Dealer        46666.666667\n",
            "Individual    59711.923223\n",
            "Name: selling_price, dtype: float64\n"
          ]
        }
      ]
    },
    {
      "cell_type": "markdown",
      "source": [
        "**Interpretation:**  \n",
        "- The bar plot shows that **individual sellers have the highest average selling price** compared to dealers and trusted dealers.  \n",
        "- This could be because individual owners are often selling relatively new or premium bikes directly, without depreciation through multiple resales.  \n",
        "- In contrast, **dealers and trusted dealers** may handle older or more budget-friendly bikes, keeping their average selling price lower.  \n",
        "\n",
        "This suggests that, in this dataset, **individual sellers dominate the high-value segment**, while professional sellers cater more to affordable segments.  \n",
        "\n"
      ],
      "metadata": {
        "id": "X-bYBlLM8Brl"
      }
    },
    {
      "cell_type": "markdown",
      "source": [
        "Question 5: Compute the average km_driven for each ownership type (1st owner,\n",
        "2nd owner, etc.), and present the result as a bar plot.\n",
        "(Include your Python code and output in the code box below.)"
      ],
      "metadata": {
        "id": "U8Jej7Eg8Loz"
      }
    },
    {
      "cell_type": "code",
      "source": [
        "import matplotlib.pyplot as plt\n",
        "\n",
        "# Calculate average km_driven by ownership type\n",
        "avg_km_by_owner = df.groupby('owner')['km_driven'].mean()\n",
        "\n",
        "# Plot bar chart\n",
        "plt.figure(figsize=(8,5))\n",
        "avg_km_by_owner.plot(kind='bar', color='seagreen', edgecolor='black')\n",
        "plt.ylabel(\"Average Kilometers Driven\")\n",
        "plt.xlabel(\"Ownership Type\")\n",
        "plt.title(\"Average km_driven by Ownership Type\")\n",
        "plt.xticks(rotation=30, ha='right')\n",
        "plt.show()\n",
        "\n",
        "# Print exact values for reference\n",
        "print(avg_km_by_owner)\n"
      ],
      "metadata": {
        "colab": {
          "base_uri": "https://localhost:8080/",
          "height": 626
        },
        "id": "o4GBRbfM8Xoo",
        "outputId": "8a98b01a-5a42-473b-b307-3db9d0ef5439"
      },
      "execution_count": 11,
      "outputs": [
        {
          "output_type": "display_data",
          "data": {
            "text/plain": [
              "<Figure size 800x500 with 1 Axes>"
            ],
            "image/png": "[encoded data removed]"
          },
          "metadata": {}
        },
        {
          "output_type": "stream",
          "name": "stdout",
          "text": [
            "owner\n",
            "1st owner     32816.583333\n",
            "2nd owner     39288.991870\n",
            "3rd owner     33292.181818\n",
            "4th owner    311500.000000\n",
            "Name: km_driven, dtype: float64\n"
          ]
        }
      ]
    },
    {
      "cell_type": "markdown",
      "source": [
        "\n",
        "**Interpretation:**  \n",
        "\n",
        "- The bar plot shows that **1st, 2nd, and 3rd owners have lower average kilometers driven** compared to higher ownership categories.  \n",
        "- This may indicate that bikes sold by early owners are relatively newer and have been used less.  \n",
        "On the other hand, **4th and above owners display the highest average km_driven**, suggesting these bikes are older and have undergone more usage before resale.  \n",
        "\n",
        "This highlights how ownership type can capture both **vehicle age** and **usage intensity** in the dataset.  \n"
      ],
      "metadata": {
        "id": "KkzJfmWs8bG8"
      }
    },
    {
      "cell_type": "markdown",
      "source": [
        "Question 6: Use the IQR method to detect and remove outliers from the km_driven\n",
        "column. Show before-and-after summary statistics.\n",
        "(Include your Python code and output in the code box below.)"
      ],
      "metadata": {
        "id": "NPBpVnT4-_mg"
      }
    },
    {
      "cell_type": "code",
      "source": [
        "# Summary statistics before removing outliers\n",
        "print(\"Before removing outliers:\\n\")\n",
        "print(df['km_driven'].describe())\n",
        "\n",
        "# Calculate IQR\n",
        "Q1 = df['km_driven'].quantile(0.25)\n",
        "Q3 = df['km_driven'].quantile(0.75)\n",
        "IQR = Q3 - Q1\n",
        "\n",
        "# Define bounds\n",
        "lower_bound = Q1 - 1.5 * IQR\n",
        "upper_bound = Q3 + 1.5 * IQR\n",
        "\n",
        "# Remove outliers\n",
        "df_no_outliers = df[(df['km_driven'] >= lower_bound) & (df['km_driven'] <= upper_bound)]\n",
        "\n",
        "# Summary statistics after removing outliers\n",
        "print(\"\\nAfter removing outliers:\\n\")\n",
        "print(df_no_outliers['km_driven'].describe())\n"
      ],
      "metadata": {
        "colab": {
          "base_uri": "https://localhost:8080/"
        },
        "id": "aXvDdu_O_N33",
        "outputId": "9627b16a-dcf6-4e80-c74c-0e638b4256eb"
      },
      "execution_count": 12,
      "outputs": [
        {
          "output_type": "stream",
          "name": "stdout",
          "text": [
            "Before removing outliers:\n",
            "\n",
            "count      1061.000000\n",
            "mean      34359.833176\n",
            "std       51623.152702\n",
            "min         350.000000\n",
            "25%       13500.000000\n",
            "50%       25000.000000\n",
            "75%       43000.000000\n",
            "max      880000.000000\n",
            "Name: km_driven, dtype: float64\n",
            "\n",
            "After removing outliers:\n",
            "\n",
            "count     1022.000000\n",
            "mean     28203.415851\n",
            "std      19552.083583\n",
            "min        350.000000\n",
            "25%      13000.000000\n",
            "50%      24000.000000\n",
            "75%      40000.000000\n",
            "max      86000.000000\n",
            "Name: km_driven, dtype: float64\n"
          ]
        }
      ]
    },
    {
      "cell_type": "markdown",
      "source": [
        "\n",
        "\n",
        "I have applied the **Interquartile Range (IQR) method** to identify outliers in the `km_driven` column:  \n",
        "\n",
        "- **Step 1:** Compute Q1 (25th percentile) and Q3 (75th percentile).  \n",
        "- **Step 2:** Calculate IQR = Q3 − Q1.  \n",
        "- **Step 3:** Define lower bound = Q1 − 1.5 × IQR, upper bound = Q3 + 1.5 × IQR.  \n",
        "- **Step 4:** Remove rows outside these bounds.  \n",
        "\n",
        "**Interpretation:**  \n",
        "- The summary statistics before and after show that the extreme values have been removed.  \n",
        "- This helps to prevent skewing of results during modeling and ensures that the dataset better reflects the typical usage pattern of bikes.  \n"
      ],
      "metadata": {
        "id": "RCcnaXp3_Zb4"
      }
    },
    {
      "cell_type": "markdown",
      "source": [
        "Question 7: Create a scatter plot of year vs. selling_price to explore the\n",
        "relationship between a bike's age and its price.\n",
        "(Include your Python code and output in the code box below.)"
      ],
      "metadata": {
        "id": "Efc2B2Pb_mF1"
      }
    },
    {
      "cell_type": "code",
      "source": [
        "import matplotlib.pyplot as plt\n",
        "\n",
        "plt.figure(figsize=(10,6))\n",
        "plt.scatter(df['year'], df['selling_price'], alpha=0.5, color='teal')\n",
        "plt.title('Scatter Plot: Year vs Selling Price')\n",
        "plt.xlabel('Year of Manufacture')\n",
        "plt.ylabel('Selling Price')\n",
        "plt.grid(True, linestyle='--', alpha=0.6)\n",
        "plt.show()\n"
      ],
      "metadata": {
        "colab": {
          "base_uri": "https://localhost:8080/",
          "height": 564
        },
        "id": "w1hi8lYG_zrP",
        "outputId": "e243418d-d732-4650-8347-d0efc509bd71"
      },
      "execution_count": 13,
      "outputs": [
        {
          "output_type": "display_data",
          "data": {
            "text/plain": [
              "<Figure size 1000x600 with 1 Axes>"
            ],
            "image/png": "[encoded data removed]"
          },
          "metadata": {}
        }
      ]
    },
    {
      "cell_type": "markdown",
      "source": [
        "**Interpretation:**  \n",
        "- Newer bikes (recent years) generally have higher selling prices.  \n",
        "- Older bikes (earlier years) show a sharp decline in value.  \n",
        "- A few scattered high-priced points indicate premium or rare models being sold even if they are older.  "
      ],
      "metadata": {
        "id": "PFX5FoZH_3EP"
      }
    },
    {
      "cell_type": "markdown",
      "source": [
        "Question 8: Convert the seller_type column into numeric format using one-hot\n",
        "encoding. Display the first 5 rows of the resulting DataFrame.\n",
        "(Include your Python code and output in the code box below.)"
      ],
      "metadata": {
        "id": "OfbxsNi3AUgl"
      }
    },
    {
      "cell_type": "code",
      "source": [
        "# One-hot encode the 'seller_type' column\n",
        "seller_type_encoded = pd.get_dummies(df['seller_type'], prefix='seller')\n",
        "\n",
        "# Concatenate back to the main DataFrame\n",
        "df_encoded = pd.concat([df, seller_type_encoded], axis=1)\n",
        "\n",
        "# Display first 5 rows\n",
        "df_encoded.head()\n"
      ],
      "metadata": {
        "colab": {
          "base_uri": "https://localhost:8080/",
          "height": 206
        },
        "id": "GdzxMfvrAkkp",
        "outputId": "6741d630-803b-4456-caef-f72bec368680"
      },
      "execution_count": 14,
      "outputs": [
        {
          "output_type": "execute_result",
          "data": {
            "text/plain": [
              "                                  name  selling_price  year seller_type  \\\n",
              "0            Royal Enfield Classic 350         175000  2019  Individual   \n",
              "1                            Honda Dio          45000  2017  Individual   \n",
              "2  Royal Enfield Classic Gunmetal Grey         150000  2018  Individual   \n",
              "3    Yamaha Fazer FI V 2.0 [2016-2018]          65000  2015  Individual   \n",
              "4                Yamaha SZ [2013-2014]          20000  2011  Individual   \n",
              "\n",
              "       owner  km_driven  ex_showroom_price  seller_Dealer  seller_Individual  \n",
              "0  1st owner        350            72752.5          False               True  \n",
              "1  1st owner       5650            72752.5          False               True  \n",
              "2  1st owner      12000           148114.0          False               True  \n",
              "3  1st owner      23000            89643.0          False               True  \n",
              "4  2nd owner      21000            72752.5          False               True  "
            ],
            "text/html": [
              "\n",
              "  <div id=\"df-11a8e472-b35e-4868-9836-5266c9ad1eef\" class=\"colab-df-container\">\n",
              "    <div>\n",
              "<style scoped>\n",
              "    .dataframe tbody tr th:only-of-type {\n",
              "        vertical-align: middle;\n",
              "    }\n",
              "\n",
              "    .dataframe tbody tr th {\n",
              "        vertical-align: top;\n",
              "    }\n",
              "\n",
              "    .dataframe thead th {\n",
              "        text-align: right;\n",
              "    }\n",
              "</style>\n",
              "<table border=\"1\" class=\"dataframe\">\n",
              "  <thead>\n",
              "    <tr style=\"text-align: right;\">\n",
              "      <th></th>\n",
              "      <th>name</th>\n",
              "      <th>selling_price</th>\n",
              "      <th>year</th>\n",
              "      <th>seller_type</th>\n",
              "      <th>owner</th>\n",
              "      <th>km_driven</th>\n",
              "      <th>ex_showroom_price</th>\n",
              "      <th>seller_Dealer</th>\n",
              "      <th>seller_Individual</th>\n",
              "    </tr>\n",
              "  </thead>\n",
              "  <tbody>\n",
              "    <tr>\n",
              "      <th>0</th>\n",
              "      <td>Royal Enfield Classic 350</td>\n",
              "      <td>175000</td>\n",
              "      <td>2019</td>\n",
              "      <td>Individual</td>\n",
              "      <td>1st owner</td>\n",
              "      <td>350</td>\n",
              "      <td>72752.5</td>\n",
              "      <td>False</td>\n",
              "      <td>True</td>\n",
              "    </tr>\n",
              "    <tr>\n",
              "      <th>1</th>\n",
              "      <td>Honda Dio</td>\n",
              "      <td>45000</td>\n",
              "      <td>2017</td>\n",
              "      <td>Individual</td>\n",
              "      <td>1st owner</td>\n",
              "      <td>5650</td>\n",
              "      <td>72752.5</td>\n",
              "      <td>False</td>\n",
              "      <td>True</td>\n",
              "    </tr>\n",
              "    <tr>\n",
              "      <th>2</th>\n",
              "      <td>Royal Enfield Classic Gunmetal Grey</td>\n",
              "      <td>150000</td>\n",
              "      <td>2018</td>\n",
              "      <td>Individual</td>\n",
              "      <td>1st owner</td>\n",
              "      <td>12000</td>\n",
              "      <td>148114.0</td>\n",
              "      <td>False</td>\n",
              "      <td>True</td>\n",
              "    </tr>\n",
              "    <tr>\n",
              "      <th>3</th>\n",
              "      <td>Yamaha Fazer FI V 2.0 [2016-2018]</td>\n",
              "      <td>65000</td>\n",
              "      <td>2015</td>\n",
              "      <td>Individual</td>\n",
              "      <td>1st owner</td>\n",
              "      <td>23000</td>\n",
              "      <td>89643.0</td>\n",
              "      <td>False</td>\n",
              "      <td>True</td>\n",
              "    </tr>\n",
              "    <tr>\n",
              "      <th>4</th>\n",
              "      <td>Yamaha SZ [2013-2014]</td>\n",
              "      <td>20000</td>\n",
              "      <td>2011</td>\n",
              "      <td>Individual</td>\n",
              "      <td>2nd owner</td>\n",
              "      <td>21000</td>\n",
              "      <td>72752.5</td>\n",
              "      <td>False</td>\n",
              "      <td>True</td>\n",
              "    </tr>\n",
              "  </tbody>\n",
              "</table>\n",
              "</div>\n",
              "    <div class=\"colab-df-buttons\">\n",
              "\n",
              "  <div class=\"colab-df-container\">\n",
              "    <button class=\"colab-df-convert\" onclick=\"convertToInteractive('df-11a8e472-b35e-4868-9836-5266c9ad1eef')\"\n",
              "            title=\"Convert this dataframe to an interactive table.\"\n",
              "            style=\"display:none;\">\n",
              "\n",
              "  <svg xmlns=\"http://www.w3.org/2000/svg\" height=\"24px\" viewBox=\"0 -960 960 960\">\n",
              "    <path d=\"M120-120v-720h720v720H120Zm60-500h600v-160H180v160Zm220 220h160v-160H400v160Zm0 220h160v-160H400v160ZM180-400h160v-160H180v160Zm440 0h160v-160H620v160ZM180-180h160v-160H180v160Zm440 0h160v-160H620v160Z\"/>\n",
              "  </svg>\n",
              "    </button>\n",
              "\n",
              "  <style>\n",
              "    .colab-df-container {\n",
              "      display:flex;\n",
              "      gap: 12px;\n",
              "    }\n",
              "\n",
              "    .colab-df-convert {\n",
              "      background-color: #E8F0FE;\n",
              "      border: none;\n",
              "      border-radius: 50%;\n",
              "      cursor: pointer;\n",
              "      display: none;\n",
              "      fill: #1967D2;\n",
              "      height: 32px;\n",
              "      padding: 0 0 0 0;\n",
              "      width: 32px;\n",
              "    }\n",
              "\n",
              "    .colab-df-convert:hover {\n",
              "      background-color: #E2EBFA;\n",
              "      box-shadow: 0px 1px 2px rgba(60, 64, 67, 0.3), 0px 1px 3px 1px rgba(60, 64, 67, 0.15);\n",
              "      fill: #174EA6;\n",
              "    }\n",
              "\n",
              "    .colab-df-buttons div {\n",
              "      margin-bottom: 4px;\n",
              "    }\n",
              "\n",
              "    [theme=dark] .colab-df-convert {\n",
              "      background-color: #3B4455;\n",
              "      fill: #D2E3FC;\n",
              "    }\n",
              "\n",
              "    [theme=dark] .colab-df-convert:hover {\n",
              "      background-color: #434B5C;\n",
              "      box-shadow: 0px 1px 3px 1px rgba(0, 0, 0, 0.15);\n",
              "      filter: drop-shadow(0px 1px 2px rgba(0, 0, 0, 0.3));\n",
              "      fill: #FFFFFF;\n",
              "    }\n",
              "  </style>\n",
              "\n",
              "    <script>\n",
              "      const buttonEl =\n",
              "        document.querySelector('#df-11a8e472-b35e-4868-9836-5266c9ad1eef button.colab-df-convert');\n",
              "      buttonEl.style.display =\n",
              "        google.colab.kernel.accessAllowed ? 'block' : 'none';\n",
              "\n",
              "      async function convertToInteractive(key) {\n",
              "        const element = document.querySelector('#df-11a8e472-b35e-4868-9836-5266c9ad1eef');\n",
              "        const dataTable =\n",
              "          await google.colab.kernel.invokeFunction('convertToInteractive',\n",
              "                                                    [key], {});\n",
              "        if (!dataTable) return;\n",
              "\n",
              "        const docLinkHtml = 'Like what you see? Visit the ' +\n",
              "          '<a target=\"_blank\" href=https://colab.research.google.com/notebooks/data_table.ipynb>data table notebook</a>'\n",
              "          + ' to learn more about interactive tables.';\n",
              "        element.innerHTML = '';\n",
              "        dataTable['output_type'] = 'display_data';\n",
              "        await google.colab.output.renderOutput(dataTable, element);\n",
              "        const docLink = document.createElement('div');\n",
              "        docLink.innerHTML = docLinkHtml;\n",
              "        element.appendChild(docLink);\n",
              "      }\n",
              "    </script>\n",
              "  </div>\n",
              "\n",
              "\n",
              "    <div id=\"df-85016a7c-7945-4dc2-87e7-8e836e895440\">\n",
              "      <button class=\"colab-df-quickchart\" onclick=\"quickchart('df-85016a7c-7945-4dc2-87e7-8e836e895440')\"\n",
              "                title=\"Suggest charts\"\n",
              "                style=\"display:none;\">\n",
              "\n",
              "<svg xmlns=\"http://www.w3.org/2000/svg\" height=\"24px\"viewBox=\"0 0 24 24\"\n",
              "     width=\"24px\">\n",
              "    <g>\n",
              "        <path d=\"M19 3H5c-1.1 0-2 .9-2 2v14c0 1.1.9 2 2 2h14c1.1 0 2-.9 2-2V5c0-1.1-.9-2-2-2zM9 17H7v-7h2v7zm4 0h-2V7h2v10zm4 0h-2v-4h2v4z\"/>\n",
              "    </g>\n",
              "</svg>\n",
              "      </button>\n",
              "\n",
              "<style>\n",
              "  .colab-df-quickchart {\n",
              "      --bg-color: #E8F0FE;\n",
              "      --fill-color: #1967D2;\n",
              "      --hover-bg-color: #E2EBFA;\n",
              "      --hover-fill-color: #174EA6;\n",
              "      --disabled-fill-color: #AAA;\n",
              "      --disabled-bg-color: #DDD;\n",
              "  }\n",
              "\n",
              "  [theme=dark] .colab-df-quickchart {\n",
              "      --bg-color: #3B4455;\n",
              "      --fill-color: #D2E3FC;\n",
              "      --hover-bg-color: #434B5C;\n",
              "      --hover-fill-color: #FFFFFF;\n",
              "      --disabled-bg-color: #3B4455;\n",
              "      --disabled-fill-color: #666;\n",
              "  }\n",
              "\n",
              "  .colab-df-quickchart {\n",
              "    background-color: var(--bg-color);\n",
              "    border: none;\n",
              "    border-radius: 50%;\n",
              "    cursor: pointer;\n",
              "    display: none;\n",
              "    fill: var(--fill-color);\n",
              "    height: 32px;\n",
              "    padding: 0;\n",
              "    width: 32px;\n",
              "  }\n",
              "\n",
              "  .colab-df-quickchart:hover {\n",
              "    background-color: var(--hover-bg-color);\n",
              "    box-shadow: 0 1px 2px rgba(60, 64, 67, 0.3), 0 1px 3px 1px rgba(60, 64, 67, 0.15);\n",
              "    fill: var(--button-hover-fill-color);\n",
              "  }\n",
              "\n",
              "  .colab-df-quickchart-complete:disabled,\n",
              "  .colab-df-quickchart-complete:disabled:hover {\n",
              "    background-color: var(--disabled-bg-color);\n",
              "    fill: var(--disabled-fill-color);\n",
              "    box-shadow: none;\n",
              "  }\n",
              "\n",
              "  .colab-df-spinner {\n",
              "    border: 2px solid var(--fill-color);\n",
              "    border-color: transparent;\n",
              "    border-bottom-color: var(--fill-color);\n",
              "    animation:\n",
              "      spin 1s steps(1) infinite;\n",
              "  }\n",
              "\n",
              "  @keyframes spin {\n",
              "    0% {\n",
              "      border-color: transparent;\n",
              "      border-bottom-color: var(--fill-color);\n",
              "      border-left-color: var(--fill-color);\n",
              "    }\n",
              "    20% {\n",
              "      border-color: transparent;\n",
              "      border-left-color: var(--fill-color);\n",
              "      border-top-color: var(--fill-color);\n",
              "    }\n",
              "    30% {\n",
              "      border-color: transparent;\n",
              "      border-left-color: var(--fill-color);\n",
              "      border-top-color: var(--fill-color);\n",
              "      border-right-color: var(--fill-color);\n",
              "    }\n",
              "    40% {\n",
              "      border-color: transparent;\n",
              "      border-right-color: var(--fill-color);\n",
              "      border-top-color: var(--fill-color);\n",
              "    }\n",
              "    60% {\n",
              "      border-color: transparent;\n",
              "      border-right-color: var(--fill-color);\n",
              "    }\n",
              "    80% {\n",
              "      border-color: transparent;\n",
              "      border-right-color: var(--fill-color);\n",
              "      border-bottom-color: var(--fill-color);\n",
              "    }\n",
              "    90% {\n",
              "      border-color: transparent;\n",
              "      border-bottom-color: var(--fill-color);\n",
              "    }\n",
              "  }\n",
              "</style>\n",
              "\n",
              "      <script>\n",
              "        async function quickchart(key) {\n",
              "          const quickchartButtonEl =\n",
              "            document.querySelector('#' + key + ' button');\n",
              "          quickchartButtonEl.disabled = true;  // To prevent multiple clicks.\n",
              "          quickchartButtonEl.classList.add('colab-df-spinner');\n",
              "          try {\n",
              "            const charts = await google.colab.kernel.invokeFunction(\n",
              "                'suggestCharts', [key], {});\n",
              "          } catch (error) {\n",
              "            console.error('Error during call to suggestCharts:', error);\n",
              "          }\n",
              "          quickchartButtonEl.classList.remove('colab-df-spinner');\n",
              "          quickchartButtonEl.classList.add('colab-df-quickchart-complete');\n",
              "        }\n",
              "        (() => {\n",
              "          let quickchartButtonEl =\n",
              "            document.querySelector('#df-85016a7c-7945-4dc2-87e7-8e836e895440 button');\n",
              "          quickchartButtonEl.style.display =\n",
              "            google.colab.kernel.accessAllowed ? 'block' : 'none';\n",
              "        })();\n",
              "      </script>\n",
              "    </div>\n",
              "\n",
              "    </div>\n",
              "  </div>\n"
            ],
            "application/vnd.google.colaboratory.intrinsic+json": {
              "type": "dataframe",
              "variable_name": "df_encoded",
              "summary": "{\n  \"name\": \"df_encoded\",\n  \"rows\": 1061,\n  \"fields\": [\n    {\n      \"column\": \"name\",\n      \"properties\": {\n        \"dtype\": \"category\",\n        \"num_unique_values\": 279,\n        \"samples\": [\n          \"Hero Xtreme Sports\",\n          \"Hero Honda Passion\",\n          \"TVS Streak\"\n        ],\n        \"semantic_type\": \"\",\n        \"description\": \"\"\n      }\n    },\n    {\n      \"column\": \"selling_price\",\n      \"properties\": {\n        \"dtype\": \"number\",\n        \"std\": 56304,\n        \"min\": 5000,\n        \"max\": 760000,\n        \"num_unique_values\": 130,\n        \"samples\": [\n          72000,\n          160000,\n          26000\n        ],\n        \"semantic_type\": \"\",\n        \"description\": \"\"\n      }\n    },\n    {\n      \"column\": \"year\",\n      \"properties\": {\n        \"dtype\": \"number\",\n        \"std\": 4,\n        \"min\": 1988,\n        \"max\": 2020,\n        \"num_unique_values\": 28,\n        \"samples\": [\n          2012,\n          2003,\n          2020\n        ],\n        \"semantic_type\": \"\",\n        \"description\": \"\"\n      }\n    },\n    {\n      \"column\": \"seller_type\",\n      \"properties\": {\n        \"dtype\": \"category\",\n        \"num_unique_values\": 2,\n        \"samples\": [\n          \"Dealer\",\n          \"Individual\"\n        ],\n        \"semantic_type\": \"\",\n        \"description\": \"\"\n      }\n    },\n    {\n      \"column\": \"owner\",\n      \"properties\": {\n        \"dtype\": \"category\",\n        \"num_unique_values\": 4,\n        \"samples\": [\n          \"2nd owner\",\n          \"4th owner\"\n        ],\n        \"semantic_type\": \"\",\n        \"description\": \"\"\n      }\n    },\n    {\n      \"column\": \"km_driven\",\n      \"properties\": {\n        \"dtype\": \"number\",\n        \"std\": 51623,\n        \"min\": 350,\n        \"max\": 880000,\n        \"num_unique_values\": 304,\n        \"samples\": [\n          19500,\n          11500\n        ],\n        \"semantic_type\": \"\",\n        \"description\": \"\"\n      }\n    },\n    {\n      \"column\": \"ex_showroom_price\",\n      \"properties\": {\n        \"dtype\": \"number\",\n        \"std\": 59975.7930591312,\n        \"min\": 30490.0,\n        \"max\": 1278000.0,\n        \"num_unique_values\": 231,\n        \"samples\": [\n          54000.0,\n          49521.0\n        ],\n        \"semantic_type\": \"\",\n        \"description\": \"\"\n      }\n    },\n    {\n      \"column\": \"seller_Dealer\",\n      \"properties\": {\n        \"dtype\": \"boolean\",\n        \"num_unique_values\": 2,\n        \"samples\": [\n          true,\n          false\n        ],\n        \"semantic_type\": \"\",\n        \"description\": \"\"\n      }\n    },\n    {\n      \"column\": \"seller_Individual\",\n      \"properties\": {\n        \"dtype\": \"boolean\",\n        \"num_unique_values\": 2,\n        \"samples\": [\n          false,\n          true\n        ],\n        \"semantic_type\": \"\",\n        \"description\": \"\"\n      }\n    }\n  ]\n}"
            }
          },
          "metadata": {},
          "execution_count": 14
        }
      ]
    },
    {
      "cell_type": "markdown",
      "source": [
        "🔹  Observation:-\n",
        "\n",
        "- After one-hot encoding, each seller type (Dealer, Individual, Trustmark Dealer) is represented as a separate binary column.\n",
        "\n",
        "- The values are 0 or 1:\n",
        "\n",
        "1. 1 means the bike belongs to that seller type.\n",
        "\n",
        "2. 0 means it does not."
      ],
      "metadata": {
        "id": "oiWUSSVIAvM0"
      }
    },
    {
      "cell_type": "markdown",
      "source": [
        "Question 9: Generate a heatmap of the correlation matrix for all numeric columns.\n",
        "What correlations stand out the most?\n",
        "(Include your Python code and output in the code box below.)"
      ],
      "metadata": {
        "id": "K_WDXg50CUAb"
      }
    },
    {
      "cell_type": "code",
      "source": [
        "import seaborn as sns\n",
        "import matplotlib.pyplot as plt\n",
        "\n",
        "# Compute correlation matrix for numeric columns\n",
        "corr_matrix = df.corr(numeric_only=True)\n",
        "\n",
        "# Plot heatmap\n",
        "plt.figure(figsize=(8,6))\n",
        "sns.heatmap(corr_matrix, annot=True, cmap='coolwarm', fmt=\".2f\")\n",
        "plt.title(\"Correlation Heatmap of Numeric Features\")\n",
        "plt.show()"
      ],
      "metadata": {
        "colab": {
          "base_uri": "https://localhost:8080/",
          "height": 545
        },
        "id": "-yzc2xvhCuGD",
        "outputId": "fae4a6dd-60cd-4f03-9490-d2fab631cbec"
      },
      "execution_count": 15,
      "outputs": [
        {
          "output_type": "display_data",
          "data": {
            "text/plain": [
              "<Figure size 800x600 with 2 Axes>"
            ],
            "image/png": "[encoded data removed]"
          },
          "metadata": {}
        }
      ]
    },
    {
      "cell_type": "markdown",
      "source": [
        "###  Observation:\n",
        "- The heatmap highlights the correlations among numeric variables in the dataset.  \n",
        "- **Selling price** shows a **positive correlation with year**, meaning newer bikes tend to have higher prices.  \n",
        "- **Km driven** displays a **negative correlation with selling price**, as bikes with higher usage usually sell for less.  \n",
        "- Other correlations are relatively weak, suggesting that each variable provides independent information about bike pricing.  \n"
      ],
      "metadata": {
        "id": "vhOFzZ9aC4nK"
      }
    },
    {
      "cell_type": "markdown",
      "source": [
        "Question 10: Summarize your findings in a brief report:\n",
        "-  What are the most important factors affecting a bike's selling price?\n",
        "-  Mention any data cleaning or feature engineering you performed.\n",
        "\n",
        "(Include your Python code and output in the code box below.)"
      ],
      "metadata": {
        "id": "xGe4F1UODSPM"
      }
    },
    {
      "cell_type": "markdown",
      "source": [
        "Answers:-\n",
        "\n",
        "###  Most Important Factors Affecting Selling Price:\n",
        "1. **Year of Manufacture** – Newer bikes generally had higher selling prices compared to older ones.  \n",
        "2. **Kilometers Driven (km_driven)** – Bikes with higher mileage showed lower resale prices, though extreme outliers were removed for clarity.  \n",
        "3. **Seller Type** – Dealer and individual sellers showed noticeable price differences, with dealer listings often priced higher.  \n",
        "4. **Ownership Type** – First-owner bikes had better resale value compared to second or third owners.  \n",
        "5. **Bike Model/Brand** – Popular brands commanded better prices compared to less-known ones.  \n",
        "\n",
        "---\n",
        "\n",
        "### 🛠 Data Cleaning & Feature Engineering Steps:\n",
        "- **Handled Missing Values:** Checked across all columns; filled/removed as appropriate.  \n",
        "- **Outlier Removal:** Applied **IQR method** on `km_driven` to reduce skewness caused by extreme values.  \n",
        "- **Encoding:** Converted categorical columns (e.g., `seller_type`) into numeric format using one-hot encoding for model readiness.  \n",
        "- **Visualization:** Histograms, bar plots, scatter plots, and correlation heatmaps were used to uncover trends and relationships.  \n",
        "\n",
        "---\n",
        "\n",
        "###  Conclusion:\n",
        "The resale price of a bike is **mainly influenced by its age (year), mileage (km driven), ownership history, and seller type**. Proper cleaning and feature engineering significantly improved the dataset’s quality, making it ready for predictive modeling tasks such as regression or classification.\n"
      ],
      "metadata": {
        "id": "urikwQvOEUTw"
      }
    }
  ]
}