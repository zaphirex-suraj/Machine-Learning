{
  "nbformat": 4,
  "nbformat_minor": 0,
  "metadata": {
    "colab": {
      "provenance": []
    },
    "kernelspec": {
      "name": "python3",
      "display_name": "Python 3"
    },
    "language_info": {
      "name": "python"
    }
  },
  "cells": [
    {
      "cell_type": "markdown",
      "source": [
        "# Assignment on **Regression & Its Evaluation**  ||Assignment Code:DA-AG-010  \n",
        "**Learner's Name:** Suraj Vishwakarma  \n",
        "**Email:** vishsurajfor@gmail.com  \n",
        "\n",
        "**This file contains the solutions of 10 questions and runnable Python code wherever necessary.**\n",
        "\n",
        "\n",
        "## Q1. What is Simple Linear Regression?\n",
        "\n",
        "**Answer:**  -Simple Linear Regression (SLR) is a fundamental statistical technique used to model the relationship between two variables:  \n",
        "- **Independent variable (X):** Predictor or input variable.  \n",
        "- **Dependent variable (Y):** Response or output variable.  \n",
        "\n",
        "The objective of SLR is to find the best-fitting straight line that explains how changes in X influence Y.\n",
        "\n",
        "The mathematical form is:  \n",
        "\n",
        "$$\n",
        "Y = \\beta_0 + \\beta_1 X + \\varepsilon\n",
        "$$\n",
        "\n",
        "Where:  \n",
        "- $\\beta_0$ = Intercept (value of Y when X = 0)  \n",
        "- $\\beta_1$ = Slope (rate of change in Y for one unit change in X)  \n",
        "- $\\varepsilon$ = Error term (difference between observed and predicted values)  \n",
        "\n",
        "**Example:**  \n",
        "If we study the effect of *hours studied (X)* on *exam scores (Y)*, SLR helps to estimate how much the score increases with each additional study hour.\n",
        "\n",
        "**Conclusion:**  \n",
        "Simple Linear Regression is widely used for prediction and trend analysis, making it a foundational tool in data science and machine learning.\n",
        "\n",
        "## Q2. What are the key assumptions of Simple Linear Regression?\n",
        "\n",
        "**Answer:** - For Simple Linear Regression (SLR) to produce valid results, certain assumptions must hold. These ensure that the linear model is appropriate and reliable.  \n",
        "\n",
        "### 1. **Linearity**\n",
        "The relationship between the independent variable (X) and the dependent variable (Y) is assumed to be linear.  \n",
        "- Example: As *hours studied* increase, *exam scores* should rise in a roughly straight-line fashion.\n",
        "\n",
        "### 2. **Independence of Errors**\n",
        "The residuals (errors) should be independent of each other.  \n",
        "- Violation example: If data points are time-based and show autocorrelation, this assumption is broken.\n",
        "\n",
        "### 3. **Homoscedasticity**\n",
        "The variance of residuals should remain constant across all values of X.  \n",
        "- If residuals spread wider at higher values of X, heteroscedasticity exists.\n",
        "\n",
        "### 4. **Normality of Errors**\n",
        "Residuals are assumed to follow a normal distribution.  \n",
        "- This is especially important for hypothesis testing and confidence interval estimation.\n",
        "\n",
        "### 5. **No Perfect Multicollinearity**\n",
        "Although SLR has only one predictor, in the context of multiple regression, predictors should not be perfectly correlated.\n",
        "\n",
        "**Conclusion:**  \n",
        "When these assumptions are met, SLR provides unbiased, efficient, and reliable estimates for predicting Y from X.\n",
        "\n",
        "## Q3. What is heteroscedasticity, and why is it important to address in regression models?\n",
        "\n",
        "**Answer:**  -**Heteroscedasticity** occurs when the variance of the residuals (errors) is not constant across all levels of the independent variable (X). In other words, the spread of errors increases or decreases with the value of X.\n",
        "\n",
        "### Mathematical Representation:  \n",
        "If $e_i$ is the residual for the $i^{th}$ observation, then under **homoscedasticity**:  \n",
        "\n",
        "$$\n",
        "Var(e_i) = \\sigma^2 \\quad \\text{for all } i\n",
        "$$  \n",
        "\n",
        "But under **heteroscedasticity**:  \n",
        "\n",
        "$$\n",
        "Var(e_i) \\neq \\sigma^2\n",
        "$$  \n",
        "\n",
        "### Why it Matters:  \n",
        "1. **Biased Standard Errors** → Leads to unreliable hypothesis tests and confidence intervals.  \n",
        "2. **Invalid p-values** → May wrongly reject or accept hypotheses.  \n",
        "3. **Poor Prediction Accuracy** → Model predictions become less reliable, especially for extreme values of X.\n",
        "\n",
        "### Example:  \n",
        "In a dataset of *income (X)* vs. *expenditure (Y)*, low-income individuals may have tightly clustered expenditures, while high-income individuals may show widely varying expenditures → causing heteroscedasticity.\n",
        "\n",
        "**Conclusion:**  \n",
        "Addressing heteroscedasticity (e.g., using log transformation, weighted least squares, or robust standard errors) is crucial to ensure valid inferences and reliable regression results.\n",
        "\n",
        "## Q4. What is Multiple Linear Regression?\n",
        "\n",
        "**Answer:**  -**Multiple Linear Regression (MLR)** is an extension of Simple Linear Regression that models the relationship between one dependent variable (Y) and **two or more independent variables (X₁, X₂, …, Xₖ)**. It helps to understand how multiple predictors simultaneously influence the response.\n",
        "\n",
        "### Mathematical Form:\n",
        "$$\n",
        "Y = \\beta_0 + \\beta_1 X_1 + \\beta_2 X_2 + \\dots + \\beta_k X_k + \\varepsilon\n",
        "$$\n",
        "\n",
        "Where:  \n",
        "- $Y$ = Dependent (response) variable  \n",
        "- $X_1, X_2, \\dots, X_k$ = Independent (predictor) variables  \n",
        "- $\\beta_0$ = Intercept  \n",
        "- $\\beta_1, \\beta_2, \\dots, \\beta_k$ = Coefficients (effect of each predictor)  \n",
        "- $\\varepsilon$ = Error term  \n",
        "\n",
        "### Example:  \n",
        "Predicting **house prices (Y)** based on factors like:  \n",
        "- $X_1$ = Size of house (sq. ft)  \n",
        "- $X_2$ = Number of bedrooms  \n",
        "- $X_3$ = Age of house  \n",
        "\n",
        "The model combines all predictors to estimate the most likely selling price.\n",
        "\n",
        "**Conclusion:**  \n",
        "Multiple Linear Regression provides a more realistic approach than Simple Linear Regression, as it accounts for several influencing factors at once, improving prediction accuracy.\n",
        "\n",
        "## Q5. What is Polynomial Regression, and how does it differ from Linear Regression?\n",
        "\n",
        "**Answer:** -**Polynomial Regression** is a type of regression analysis where the relationship between the independent variable (X) and the dependent variable (Y) is modeled as an *nth degree polynomial*. It is used when the data shows a **curved (non-linear) trend**.\n",
        "\n",
        "### Mathematical Form:\n",
        "For a polynomial of degree 2 (quadratic):\n",
        "$$\n",
        "Y = \\beta_0 + \\beta_1 X + \\beta_2 X^2 + \\varepsilon\n",
        "$$  \n",
        "\n",
        "For a general degree *n*:  \n",
        "$$\n",
        "Y = \\beta_0 + \\beta_1 X + \\beta_2 X^2 + \\dots + \\beta_n X^n + \\varepsilon\n",
        "$$  \n",
        "\n",
        "### Difference from Linear Regression:\n",
        "- **Linear Regression** assumes a straight-line relationship between X and Y.  \n",
        "- **Polynomial Regression** allows for curved relationships by including higher powers of X.  \n",
        "\n",
        "### Example:\n",
        "- *Linear Regression:* Predicting salary based only on years of experience (straight-line trend).  \n",
        "- *Polynomial Regression:* Predicting salary when growth is rapid initially, slows in mid-career, and plateaus later → requiring a curved fit.  \n",
        "\n",
        "**Conclusion:**  \n",
        "Polynomial Regression increases model flexibility and captures non-linear trends. However, higher-degree polynomials may lead to **overfitting**, so the degree must be chosen carefully.\n",
        "\n",
        "## Q6. Implement a Python program to fit a Simple Linear Regression model to the following sample data:\n",
        "- X = [1, 2, 3, 4, 5]  \n",
        "- Y = [2.1, 4.3, 6.1, 7.9, 10.2]  \n",
        "\n",
        "Fit the model and plot the regression line over the data points.\n",
        "(Include your Python code and output in the code box below.)\n"
      ],
      "metadata": {
        "id": "EgrLn0_eoa4c"
      }
    },
    {
      "cell_type": "code",
      "source": [
        "# Import libraries\n",
        "import numpy as np\n",
        "import matplotlib.pyplot as plt\n",
        "from sklearn.linear_model import LinearRegression\n",
        "\n",
        "# Sample data\n",
        "X = np.array([1, 2, 3, 4, 5]).reshape(-1, 1)\n",
        "Y = np.array([2.1, 4.3, 6.1, 7.9, 10.2])\n",
        "\n",
        "# Fit Linear Regression model\n",
        "model = LinearRegression()\n",
        "model.fit(X, Y)\n",
        "\n",
        "# Predictions\n",
        "Y_pred = model.predict(X)\n",
        "\n",
        "# Plot data points and regression line\n",
        "plt.scatter(X, Y, color='blue', label='Data Points')\n",
        "plt.plot(X, Y_pred, color='red', linewidth=2, label='Regression Line')\n",
        "plt.xlabel('X')\n",
        "plt.ylabel('Y')\n",
        "plt.title('Simple Linear Regression')\n",
        "plt.legend()\n",
        "plt.show()\n",
        "\n",
        "# Display slope and intercept\n",
        "print(\"Intercept (β₀):\", model.intercept_)\n",
        "print(\"Slope (β₁):\", model.coef_[0])\n"
      ],
      "metadata": {
        "colab": {
          "base_uri": "https://localhost:8080/",
          "height": 507
        },
        "id": "BNr9caHwq62Z",
        "outputId": "bf35743b-fb89-40e1-d486-bb83e1577fc0"
      },
      "execution_count": null,
      "outputs": [
        {
          "output_type": "display_data",
          "data": {
            "text/plain": [
              "<Figure size 640x480 with 1 Axes>"
            ],
            "image/png": "[encoded data removed]"
          },
          "metadata": {}
        },
        {
          "output_type": "stream",
          "name": "stdout",
          "text": [
            "Intercept (β₀): 0.17999999999999794\n",
            "Slope (β₁): 1.9800000000000004\n"
          ]
        }
      ]
    },
    {
      "cell_type": "markdown",
      "source": [
        "### Interpretation:-\n",
        "The regression line closely fits the given data points, showing a clear positive linear relationship between X and Y.  \n",
        "- The slope (β₁) is approximately **2**, indicating that for every unit increase in X, Y increases by about 2 units.  \n",
        "- The intercept (β₀) represents the baseline value of Y when X = 0.  \n",
        "\n",
        "Thus, the model effectively captures the linear trend in the dataset.\n",
        "\n",
        "\n",
        "Question 7: Fit a Multiple Linear Regression model on this sample data:\n",
        "- Area = [1200, 1500, 1800, 2000]\n",
        "- Rooms = [2, 3, 3, 4]\n",
        "- Price = [250000, 300000, 320000, 370000]\n",
        "\n",
        "Check for multicollinearity using VIF and report the results. (Include your Python code and output in the code box below.)\n"
      ],
      "metadata": {
        "id": "bnYmZpVvrS7C"
      }
    },
    {
      "cell_type": "code",
      "source": [
        "# Import libraries\n",
        "import numpy as np\n",
        "import pandas as pd\n",
        "import statsmodels.api as sm\n",
        "from sklearn.linear_model import LinearRegression\n",
        "from statsmodels.stats.outliers_influence import variance_inflation_factor\n",
        "\n",
        "# Sample data\n",
        "data = pd.DataFrame({\n",
        "    'Area': [1200, 1500, 1800, 2000],\n",
        "    'Rooms': [2, 3, 3, 4],\n",
        "    'Price': [250000, 300000, 320000, 370000]\n",
        "})\n",
        "\n",
        "# Features and target\n",
        "X = data[['Area', 'Rooms']]\n",
        "y = data['Price']\n",
        "\n",
        "# Fit Multiple Linear Regression\n",
        "model = LinearRegression()\n",
        "model.fit(X, y)\n",
        "\n",
        "# Predictions\n",
        "y_pred = model.predict(X)\n",
        "\n",
        "# Model coefficients\n",
        "print(\"Intercept (β₀):\", model.intercept_)\n",
        "print(\"Coefficients (β):\", model.coef_)\n",
        "\n",
        "# Calculate VIF to check multicollinearity\n",
        "X_with_const = sm.add_constant(X)\n",
        "vif_data = pd.DataFrame()\n",
        "vif_data[\"Feature\"] = X_with_const.columns\n",
        "vif_data[\"VIF\"] = [variance_inflation_factor(X_with_const.values, i)\n",
        "                   for i in range(X_with_const.shape[1])]\n",
        "\n",
        "print(\"\\nVariance Inflation Factor (VIF):\")\n",
        "print(vif_data)\n",
        "\n"
      ],
      "metadata": {
        "colab": {
          "base_uri": "https://localhost:8080/"
        },
        "id": "ru6QH04esage",
        "outputId": "b8505bc6-86db-4624-8f45-bec225e5159c"
      },
      "execution_count": null,
      "outputs": [
        {
          "output_type": "stream",
          "name": "stdout",
          "text": [
            "Intercept (β₀): 103157.89473684214\n",
            "Coefficients (β): [   63.15789474 34736.84210526]\n",
            "\n",
            "Variance Inflation Factor (VIF):\n",
            "  Feature        VIF\n",
            "0   const  34.210526\n",
            "1    Area   7.736842\n",
            "2   Rooms   7.736842\n"
          ]
        }
      ]
    },
    {
      "cell_type": "markdown",
      "source": [
        "### Regression Equation:\n",
        "$$\n",
        "\\mathit{Price} \\;=\\; \\beta_{0} \\;+\\; \\beta_{1}\\,\\mathit{Area} \\;+\\; \\beta_{2}\\,\\mathit{Rooms}\n",
        "$$\n",
        "\n",
        "\n",
        "\n",
        "Where:  \n",
        "- \\(β₀\\) = Intercept  \n",
        "- \\(β₁\\) = Coefficient for Area  \n",
        "- \\(β₂\\) = Coefficient for Rooms  \n",
        "\n",
        "---\n",
        "\n",
        "### Interpretation:\n",
        "- The regression model predicts `Price` based on both `Area` and `Rooms`.  \n",
        "- The coefficients show how much the selling price changes with one unit increase in each feature, holding the other constant.  \n",
        "- VIF values help detect **multicollinearity** (when predictors are highly correlated).  \n",
        "    - If VIF > 10, it suggests serious multicollinearity.  \n",
        "    - In this dataset, the VIF values may be slightly high due to correlation between `Area` and `Rooms` (larger houses usually have more rooms).  \n",
        "\n",
        "Thus, while the model works, caution is needed when interpreting the independent effect of each variable.\n",
        "\n",
        "\n",
        "## Q8: Implement polynomial regression on the following data\n",
        "\n",
        "- X = [1, 2, 3, 4, 5]  \n",
        "- Y = [2.2, 4.8, 7.5, 11.2, 14.7]  \n",
        "\n",
        "Fit a **2nd-degree polynomial** and plot the resulting curve.  \n",
        "(Include your Python code and output in the code box below.)\n",
        "\n",
        "**Answer**:-Polynomial regression is an extension of linear regression where the relationship between the independent variable (X) and dependent variable (Y) is modeled as an *nth-degree polynomial*.  \n",
        "Here, we fit a **2nd-degree polynomial** to the given data."
      ],
      "metadata": {
        "id": "4Eguv4NetgK_"
      }
    },
    {
      "cell_type": "code",
      "source": [
        "import numpy as np\n",
        "import matplotlib.pyplot as plt\n",
        "from sklearn.preprocessing import PolynomialFeatures\n",
        "from sklearn.linear_model import LinearRegression\n",
        "\n",
        "# Data\n",
        "X = np.array([1, 2, 3, 4, 5]).reshape(-1, 1)\n",
        "Y = np.array([2.2, 4.8, 7.5, 11.2, 14.7])\n",
        "\n",
        "# Create polynomial features (degree = 2)\n",
        "poly = PolynomialFeatures(degree=2)\n",
        "X_poly = poly.fit_transform(X)\n",
        "\n",
        "# Fit regression model\n",
        "model = LinearRegression()\n",
        "model.fit(X_poly, Y)\n",
        "\n",
        "# Predict values\n",
        "X_range = np.linspace(1, 5, 100).reshape(-1, 1)\n",
        "Y_pred = model.predict(poly.transform(X_range))\n",
        "\n",
        "# Plot\n",
        "plt.scatter(X, Y, color=\"blue\", label=\"Data Points\")\n",
        "plt.plot(X_range, Y_pred, color=\"red\", linewidth=2, label=\"Polynomial Fit (Degree 2)\")\n",
        "plt.xlabel(\"X\")\n",
        "plt.ylabel(\"Y\")\n",
        "plt.title(\"Polynomial Regression (Degree 2)\")\n",
        "plt.legend()\n",
        "plt.show()\n",
        "\n",
        "# Print coefficients\n",
        "print(\"Coefficients:\", model.coef_)\n",
        "print(\"Intercept:\", model.intercept_)"
      ],
      "metadata": {
        "colab": {
          "base_uri": "https://localhost:8080/",
          "height": 507
        },
        "id": "gB1bVR4FxpmP",
        "outputId": "d673de13-2f73-4e96-a7e9-02f5cc49b02a"
      },
      "execution_count": 5,
      "outputs": [
        {
          "output_type": "display_data",
          "data": {
            "text/plain": [
              "<Figure size 640x480 with 1 Axes>"
            ],
            "image/png": "[encoded data removed]"
          },
          "metadata": {}
        },
        {
          "output_type": "stream",
          "name": "stdout",
          "text": [
            "Coefficients: [0.   1.94 0.2 ]\n",
            "Intercept: 0.06000000000000938\n"
          ]
        }
      ]
    },
    {
      "cell_type": "markdown",
      "source": [
        "###Observation:-\n",
        "- The polynomial regression curve closely follows the increasing trend of the data points.\n",
        "- Unlike a straight line, this quadratic fit captures the curvature in the relationship between X and Y, showing that polynomial regression is more suitable for modeling non-linear patterns\n",
        "\n",
        "## Q9: Create a residuals plot for a regression model trained on this data\n",
        "\n",
        "- X = [10, 20, 30, 40, 50]  \n",
        "- Y = [15, 35, 40, 50, 65]  \n",
        "\n",
        "Assess heteroscedasticity by examining the spread of residuals.  \n",
        "(Include your Python code and output in the code box below.)\n",
        "\n",
        "\n",
        "**Answer**-Residual plots are used to check whether the errors (residuals) are randomly distributed.  \n",
        "If the residuals show a **constant spread** across fitted values, the assumption of *homoscedasticity* holds.  \n",
        "If the spread increases or decreases systematically, it indicates *heteroscedasticity*.\n"
      ],
      "metadata": {
        "id": "OJT0JKdCySpM"
      }
    },
    {
      "cell_type": "code",
      "source": [
        "import numpy as np\n",
        "import matplotlib.pyplot as plt\n",
        "from sklearn.linear_model import LinearRegression\n",
        "\n",
        "# Data\n",
        "X = np.array([10, 20, 30, 40, 50]).reshape(-1, 1)\n",
        "Y = np.array([15, 35, 40, 50, 65])\n",
        "\n",
        "# Fit regression model\n",
        "model = LinearRegression()\n",
        "model.fit(X, Y)\n",
        "Y_pred = model.predict(X)\n",
        "\n",
        "# Compute residuals\n",
        "residuals = Y - Y_pred\n",
        "\n",
        "# Plot residuals\n",
        "plt.scatter(Y_pred, residuals, color=\"blue\")\n",
        "plt.axhline(y=0, color=\"red\", linestyle=\"--\")\n",
        "plt.xlabel(\"Predicted Values\")\n",
        "plt.ylabel(\"Residuals\")\n",
        "plt.title(\"Residual Plot\")\n",
        "plt.show()\n",
        "\n",
        "# Print residuals\n",
        "print(\"Residuals:\", residuals)"
      ],
      "metadata": {
        "colab": {
          "base_uri": "https://localhost:8080/",
          "height": 489
        },
        "id": "FyE2hlTCzLaD",
        "outputId": "f2720f20-2fb6-4a8b-9449-afc65266f89d"
      },
      "execution_count": 6,
      "outputs": [
        {
          "output_type": "display_data",
          "data": {
            "text/plain": [
              "<Figure size 640x480 with 1 Axes>"
            ],
            "image/png": "[encoded data removed]"
          },
          "metadata": {}
        },
        {
          "output_type": "stream",
          "name": "stdout",
          "text": [
            "Residuals: [-3.   5.5 -1.  -2.5  1. ]\n"
          ]
        }
      ]
    },
    {
      "cell_type": "markdown",
      "source": [
        "##Observation:-\n",
        "\n",
        "- The residuals appear to be randomly scattered around zero, with no clear increasing or decreasing pattern.\n",
        "- This suggests that there is no strong evidence of heteroscedasticity in this regression model.\n",
        "\n",
        "Q10: Imagine you are a data scientist working for a real estate company. You need to predict house prices using features like area, number of rooms, and location. However, you detect heteroscedasticity and multicollinearity in your regression model. Explain the steps you would take to address these issues and ensure a robust model.\n",
        "\n",
        "## Q10: Imagine you are a data scientist working for a real estate company. You need to predict house prices using features like area, number of rooms, and location. However, you detect heteroscedasticity and multicollinearity in your regression model. Explain the steps you would take to address these issues and ensure a robust model.\n",
        "\n",
        "**Answer:**- As a data scientist building a regression model for house price prediction using features like **area, number of rooms, and location**, we often face issues such as **heteroscedasticity** and **multicollinearity**.  \n",
        "Both problems can weaken the reliability of regression estimates.\n",
        "\n",
        "---\n",
        "\n",
        "### Steps to Address Heteroscedasticity:\n",
        "1. **Visualization**  \n",
        "   - Plot residuals vs. fitted values to confirm non-constant variance.  \n",
        "\n",
        "2. **Data Transformation**  \n",
        "   - Apply transformations such as log or square-root on the dependent variable (house price) to stabilize variance.  \n",
        "   - Example: `log(price)` instead of raw price.  \n",
        "\n",
        "3. **Robust Regression**  \n",
        "   - Use heteroscedasticity-robust standard errors (e.g., White’s robust SE) so hypothesis tests remain valid.  \n",
        "\n",
        "---\n",
        "\n",
        "### Steps to Address Multicollinearity:\n",
        "1. **Variance Inflation Factor (VIF)**  \n",
        "   - Calculate VIF for predictors.  \n",
        "   - Features with VIF > 10 indicate high collinearity.  \n",
        "\n",
        "2. **Feature Selection / Removal**  \n",
        "   - Drop one of the highly correlated variables (e.g., if *area* and *number of rooms* are strongly correlated).  \n",
        "\n",
        "3. **Dimensionality Reduction**  \n",
        "   - Apply **Principal Component Analysis (PCA)** or combine correlated variables into a composite feature.  \n",
        "\n",
        "4. **Regularization**  \n",
        "   - Use **Ridge Regression** or **Lasso Regression** to penalize large coefficients and reduce instability caused by collinearity.  \n",
        "\n",
        "---\n",
        "\n",
        "### Conclusion\n",
        "By applying these techniques:  \n",
        "- Heteroscedasticity can be reduced through **transformations or robust models**.  \n",
        "- Multicollinearity can be controlled using **feature selection, PCA, or regularization**.  \n",
        "\n",
        "This ensures the regression model remains **statistically valid, interpretable, and reliable** for predicting house prices.\n"
      ],
      "metadata": {
        "id": "01k-8MX2zZqY"
      }
    }
  ]
}